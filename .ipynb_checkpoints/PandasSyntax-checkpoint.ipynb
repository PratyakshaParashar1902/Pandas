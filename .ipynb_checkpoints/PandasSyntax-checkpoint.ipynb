{
 "cells": [
  {
   "cell_type": "code",
   "execution_count": 1,
   "id": "1d96209e",
   "metadata": {},
   "outputs": [],
   "source": [
    "import pandas as pd\n",
    "import numpy as np"
   ]
  },
  {
   "cell_type": "code",
   "execution_count": 6,
   "id": "42de4f67",
   "metadata": {},
   "outputs": [],
   "source": [
    "dict1 = {\n",
    "    \"Name\" : ['Yash','Mohan','Sohan','Ravi'],\n",
    "    \"Marks\" : ['95','91','89','75'],\n",
    "    \"City\" : ['Ankleshwar','Mathura','Agra','Bombay']\n",
    "}"
   ]
  },
  {
   "cell_type": "code",
   "execution_count": 7,
   "id": "cc259393",
   "metadata": {},
   "outputs": [],
   "source": [
    "df = pd.DataFrame(dict1)"
   ]
  },
  {
   "cell_type": "code",
   "execution_count": 8,
   "id": "52abbb13",
   "metadata": {},
   "outputs": [
    {
     "name": "stdout",
     "output_type": "stream",
     "text": [
      "    Name Marks        City\n",
      "0   Yash    95  Ankleshwar\n",
      "1  Mohan    91     Mathura\n",
      "2  Sohan    89        Agra\n",
      "3   Ravi    75      Bombay\n"
     ]
    }
   ],
   "source": [
    "print(df)"
   ]
  },
  {
   "cell_type": "code",
   "execution_count": 9,
   "id": "e2415fee",
   "metadata": {},
   "outputs": [
    {
     "data": {
      "text/html": [
       "<div>\n",
       "<style scoped>\n",
       "    .dataframe tbody tr th:only-of-type {\n",
       "        vertical-align: middle;\n",
       "    }\n",
       "\n",
       "    .dataframe tbody tr th {\n",
       "        vertical-align: top;\n",
       "    }\n",
       "\n",
       "    .dataframe thead th {\n",
       "        text-align: right;\n",
       "    }\n",
       "</style>\n",
       "<table border=\"1\" class=\"dataframe\">\n",
       "  <thead>\n",
       "    <tr style=\"text-align: right;\">\n",
       "      <th></th>\n",
       "      <th>Name</th>\n",
       "      <th>Marks</th>\n",
       "      <th>City</th>\n",
       "    </tr>\n",
       "  </thead>\n",
       "  <tbody>\n",
       "    <tr>\n",
       "      <th>0</th>\n",
       "      <td>Yash</td>\n",
       "      <td>95</td>\n",
       "      <td>Ankleshwar</td>\n",
       "    </tr>\n",
       "    <tr>\n",
       "      <th>1</th>\n",
       "      <td>Mohan</td>\n",
       "      <td>91</td>\n",
       "      <td>Mathura</td>\n",
       "    </tr>\n",
       "    <tr>\n",
       "      <th>2</th>\n",
       "      <td>Sohan</td>\n",
       "      <td>89</td>\n",
       "      <td>Agra</td>\n",
       "    </tr>\n",
       "    <tr>\n",
       "      <th>3</th>\n",
       "      <td>Ravi</td>\n",
       "      <td>75</td>\n",
       "      <td>Bombay</td>\n",
       "    </tr>\n",
       "  </tbody>\n",
       "</table>\n",
       "</div>"
      ],
      "text/plain": [
       "    Name Marks        City\n",
       "0   Yash    95  Ankleshwar\n",
       "1  Mohan    91     Mathura\n",
       "2  Sohan    89        Agra\n",
       "3   Ravi    75      Bombay"
      ]
     },
     "execution_count": 9,
     "metadata": {},
     "output_type": "execute_result"
    }
   ],
   "source": [
    "df"
   ]
  },
  {
   "cell_type": "code",
   "execution_count": 12,
   "id": "3a89b724",
   "metadata": {},
   "outputs": [],
   "source": [
    "# Created csv file\n",
    "df.to_csv('friends.csv')"
   ]
  },
  {
   "cell_type": "code",
   "execution_count": 13,
   "id": "f27cb8ba",
   "metadata": {},
   "outputs": [],
   "source": [
    "# Created csv file - without index \n",
    "df.to_csv('friends_NoIndex.csv', index = False)"
   ]
  },
  {
   "cell_type": "code",
   "execution_count": 14,
   "id": "d2e25a97",
   "metadata": {},
   "outputs": [
    {
     "data": {
      "text/html": [
       "<div>\n",
       "<style scoped>\n",
       "    .dataframe tbody tr th:only-of-type {\n",
       "        vertical-align: middle;\n",
       "    }\n",
       "\n",
       "    .dataframe tbody tr th {\n",
       "        vertical-align: top;\n",
       "    }\n",
       "\n",
       "    .dataframe thead th {\n",
       "        text-align: right;\n",
       "    }\n",
       "</style>\n",
       "<table border=\"1\" class=\"dataframe\">\n",
       "  <thead>\n",
       "    <tr style=\"text-align: right;\">\n",
       "      <th></th>\n",
       "      <th>Name</th>\n",
       "      <th>Marks</th>\n",
       "      <th>City</th>\n",
       "    </tr>\n",
       "  </thead>\n",
       "  <tbody>\n",
       "    <tr>\n",
       "      <th>0</th>\n",
       "      <td>Yash</td>\n",
       "      <td>95</td>\n",
       "      <td>Ankleshwar</td>\n",
       "    </tr>\n",
       "    <tr>\n",
       "      <th>1</th>\n",
       "      <td>Mohan</td>\n",
       "      <td>91</td>\n",
       "      <td>Mathura</td>\n",
       "    </tr>\n",
       "  </tbody>\n",
       "</table>\n",
       "</div>"
      ],
      "text/plain": [
       "    Name Marks        City\n",
       "0   Yash    95  Ankleshwar\n",
       "1  Mohan    91     Mathura"
      ]
     },
     "execution_count": 14,
     "metadata": {},
     "output_type": "execute_result"
    }
   ],
   "source": [
    "# Shows starting two elements\n",
    "df.head(2)"
   ]
  },
  {
   "cell_type": "code",
   "execution_count": 15,
   "id": "b5cf99b4",
   "metadata": {},
   "outputs": [
    {
     "data": {
      "text/html": [
       "<div>\n",
       "<style scoped>\n",
       "    .dataframe tbody tr th:only-of-type {\n",
       "        vertical-align: middle;\n",
       "    }\n",
       "\n",
       "    .dataframe tbody tr th {\n",
       "        vertical-align: top;\n",
       "    }\n",
       "\n",
       "    .dataframe thead th {\n",
       "        text-align: right;\n",
       "    }\n",
       "</style>\n",
       "<table border=\"1\" class=\"dataframe\">\n",
       "  <thead>\n",
       "    <tr style=\"text-align: right;\">\n",
       "      <th></th>\n",
       "      <th>Name</th>\n",
       "      <th>Marks</th>\n",
       "      <th>City</th>\n",
       "    </tr>\n",
       "  </thead>\n",
       "  <tbody>\n",
       "    <tr>\n",
       "      <th>2</th>\n",
       "      <td>Sohan</td>\n",
       "      <td>89</td>\n",
       "      <td>Agra</td>\n",
       "    </tr>\n",
       "    <tr>\n",
       "      <th>3</th>\n",
       "      <td>Ravi</td>\n",
       "      <td>75</td>\n",
       "      <td>Bombay</td>\n",
       "    </tr>\n",
       "  </tbody>\n",
       "</table>\n",
       "</div>"
      ],
      "text/plain": [
       "    Name Marks    City\n",
       "2  Sohan    89    Agra\n",
       "3   Ravi    75  Bombay"
      ]
     },
     "execution_count": 15,
     "metadata": {},
     "output_type": "execute_result"
    }
   ],
   "source": [
    "# Shows last two elements\n",
    "df.tail(2)"
   ]
  },
  {
   "cell_type": "code",
   "execution_count": 16,
   "id": "ba89e363",
   "metadata": {},
   "outputs": [
    {
     "data": {
      "text/html": [
       "<div>\n",
       "<style scoped>\n",
       "    .dataframe tbody tr th:only-of-type {\n",
       "        vertical-align: middle;\n",
       "    }\n",
       "\n",
       "    .dataframe tbody tr th {\n",
       "        vertical-align: top;\n",
       "    }\n",
       "\n",
       "    .dataframe thead th {\n",
       "        text-align: right;\n",
       "    }\n",
       "</style>\n",
       "<table border=\"1\" class=\"dataframe\">\n",
       "  <thead>\n",
       "    <tr style=\"text-align: right;\">\n",
       "      <th></th>\n",
       "      <th>Name</th>\n",
       "      <th>Marks</th>\n",
       "      <th>City</th>\n",
       "    </tr>\n",
       "  </thead>\n",
       "  <tbody>\n",
       "    <tr>\n",
       "      <th>count</th>\n",
       "      <td>4</td>\n",
       "      <td>4</td>\n",
       "      <td>4</td>\n",
       "    </tr>\n",
       "    <tr>\n",
       "      <th>unique</th>\n",
       "      <td>4</td>\n",
       "      <td>4</td>\n",
       "      <td>4</td>\n",
       "    </tr>\n",
       "    <tr>\n",
       "      <th>top</th>\n",
       "      <td>Yash</td>\n",
       "      <td>95</td>\n",
       "      <td>Ankleshwar</td>\n",
       "    </tr>\n",
       "    <tr>\n",
       "      <th>freq</th>\n",
       "      <td>1</td>\n",
       "      <td>1</td>\n",
       "      <td>1</td>\n",
       "    </tr>\n",
       "  </tbody>\n",
       "</table>\n",
       "</div>"
      ],
      "text/plain": [
       "        Name Marks        City\n",
       "count      4     4           4\n",
       "unique     4     4           4\n",
       "top     Yash    95  Ankleshwar\n",
       "freq       1     1           1"
      ]
     },
     "execution_count": 16,
     "metadata": {},
     "output_type": "execute_result"
    }
   ],
   "source": [
    "# Do math on mmeric row - Gives mean, count, standard deviation etc..\n",
    "df.describe()"
   ]
  },
  {
   "cell_type": "code",
   "execution_count": 19,
   "id": "a9476c9b",
   "metadata": {},
   "outputs": [],
   "source": [
    "# Reading cvs file\n",
    "Trains = pd.read_csv('trains.csv')"
   ]
  },
  {
   "cell_type": "code",
   "execution_count": 20,
   "id": "b7115087",
   "metadata": {},
   "outputs": [
    {
     "data": {
      "text/html": [
       "<div>\n",
       "<style scoped>\n",
       "    .dataframe tbody tr th:only-of-type {\n",
       "        vertical-align: middle;\n",
       "    }\n",
       "\n",
       "    .dataframe tbody tr th {\n",
       "        vertical-align: top;\n",
       "    }\n",
       "\n",
       "    .dataframe thead th {\n",
       "        text-align: right;\n",
       "    }\n",
       "</style>\n",
       "<table border=\"1\" class=\"dataframe\">\n",
       "  <thead>\n",
       "    <tr style=\"text-align: right;\">\n",
       "      <th></th>\n",
       "      <th>TRIN NO</th>\n",
       "      <th>SPEED</th>\n",
       "      <th>City</th>\n",
       "    </tr>\n",
       "  </thead>\n",
       "  <tbody>\n",
       "    <tr>\n",
       "      <th>0</th>\n",
       "      <td>12345</td>\n",
       "      <td>95</td>\n",
       "      <td>Ankleshwar</td>\n",
       "    </tr>\n",
       "    <tr>\n",
       "      <th>1</th>\n",
       "      <td>34321</td>\n",
       "      <td>91</td>\n",
       "      <td>Mathura</td>\n",
       "    </tr>\n",
       "    <tr>\n",
       "      <th>2</th>\n",
       "      <td>56435</td>\n",
       "      <td>89</td>\n",
       "      <td>Agra</td>\n",
       "    </tr>\n",
       "    <tr>\n",
       "      <th>3</th>\n",
       "      <td>76543</td>\n",
       "      <td>75</td>\n",
       "      <td>Bombay</td>\n",
       "    </tr>\n",
       "  </tbody>\n",
       "</table>\n",
       "</div>"
      ],
      "text/plain": [
       "   TRIN NO  SPEED        City\n",
       "0    12345     95  Ankleshwar\n",
       "1    34321     91     Mathura\n",
       "2    56435     89        Agra\n",
       "3    76543     75      Bombay"
      ]
     },
     "execution_count": 20,
     "metadata": {},
     "output_type": "execute_result"
    }
   ],
   "source": [
    "Trains"
   ]
  },
  {
   "cell_type": "code",
   "execution_count": 21,
   "id": "3dce4340",
   "metadata": {},
   "outputs": [
    {
     "data": {
      "text/plain": [
       "95"
      ]
     },
     "execution_count": 21,
     "metadata": {},
     "output_type": "execute_result"
    }
   ],
   "source": [
    "Trains['SPEED'][0]"
   ]
  },
  {
   "cell_type": "code",
   "execution_count": 22,
   "id": "d5e6ae94",
   "metadata": {},
   "outputs": [
    {
     "name": "stderr",
     "output_type": "stream",
     "text": [
      "/var/folders/k9/r58sn53s63gcnc3v_h7v79p00000gn/T/ipykernel_25933/4206724041.py:1: SettingWithCopyWarning: \n",
      "A value is trying to be set on a copy of a slice from a DataFrame\n",
      "\n",
      "See the caveats in the documentation: https://pandas.pydata.org/pandas-docs/stable/user_guide/indexing.html#returning-a-view-versus-a-copy\n",
      "  Trains['SPEED'][0] = 50\n"
     ]
    }
   ],
   "source": [
    "Trains['SPEED'][0] = 50"
   ]
  },
  {
   "cell_type": "code",
   "execution_count": 23,
   "id": "851144fd",
   "metadata": {},
   "outputs": [
    {
     "data": {
      "text/plain": [
       "50"
      ]
     },
     "execution_count": 23,
     "metadata": {},
     "output_type": "execute_result"
    }
   ],
   "source": [
    "Trains['SPEED'][0]"
   ]
  },
  {
   "cell_type": "code",
   "execution_count": 24,
   "id": "814b1107",
   "metadata": {},
   "outputs": [],
   "source": [
    "# for updating changes in our csv file\n",
    "Trains.to_csv('trains.csv')"
   ]
  },
  {
   "cell_type": "code",
   "execution_count": 25,
   "id": "3c8fff80",
   "metadata": {},
   "outputs": [],
   "source": [
    "Trains.index = ['first','second','third','fourth']"
   ]
  },
  {
   "cell_type": "code",
   "execution_count": 27,
   "id": "202b7b60",
   "metadata": {},
   "outputs": [
    {
     "data": {
      "text/html": [
       "<div>\n",
       "<style scoped>\n",
       "    .dataframe tbody tr th:only-of-type {\n",
       "        vertical-align: middle;\n",
       "    }\n",
       "\n",
       "    .dataframe tbody tr th {\n",
       "        vertical-align: top;\n",
       "    }\n",
       "\n",
       "    .dataframe thead th {\n",
       "        text-align: right;\n",
       "    }\n",
       "</style>\n",
       "<table border=\"1\" class=\"dataframe\">\n",
       "  <thead>\n",
       "    <tr style=\"text-align: right;\">\n",
       "      <th></th>\n",
       "      <th>TRIN NO</th>\n",
       "      <th>SPEED</th>\n",
       "      <th>City</th>\n",
       "    </tr>\n",
       "  </thead>\n",
       "  <tbody>\n",
       "    <tr>\n",
       "      <th>first</th>\n",
       "      <td>12345</td>\n",
       "      <td>50</td>\n",
       "      <td>Ankleshwar</td>\n",
       "    </tr>\n",
       "    <tr>\n",
       "      <th>second</th>\n",
       "      <td>34321</td>\n",
       "      <td>91</td>\n",
       "      <td>Mathura</td>\n",
       "    </tr>\n",
       "    <tr>\n",
       "      <th>third</th>\n",
       "      <td>56435</td>\n",
       "      <td>89</td>\n",
       "      <td>Agra</td>\n",
       "    </tr>\n",
       "    <tr>\n",
       "      <th>fourth</th>\n",
       "      <td>76543</td>\n",
       "      <td>75</td>\n",
       "      <td>Bombay</td>\n",
       "    </tr>\n",
       "  </tbody>\n",
       "</table>\n",
       "</div>"
      ],
      "text/plain": [
       "        TRIN NO  SPEED        City\n",
       "first     12345     50  Ankleshwar\n",
       "second    34321     91     Mathura\n",
       "third     56435     89        Agra\n",
       "fourth    76543     75      Bombay"
      ]
     },
     "execution_count": 27,
     "metadata": {},
     "output_type": "execute_result"
    }
   ],
   "source": [
    "Trains"
   ]
  },
  {
   "cell_type": "code",
   "execution_count": 31,
   "id": "dc576914",
   "metadata": {},
   "outputs": [],
   "source": [
    "# Created a Series datatype\n",
    "ser = pd.Series(np.random.rand(9))"
   ]
  },
  {
   "cell_type": "code",
   "execution_count": 32,
   "id": "139e8a5b",
   "metadata": {},
   "outputs": [
    {
     "data": {
      "text/plain": [
       "0    0.374182\n",
       "1    0.002248\n",
       "2    0.167165\n",
       "3    0.558495\n",
       "4    0.616997\n",
       "5    0.642973\n",
       "6    0.466844\n",
       "7    0.176358\n",
       "8    0.396223\n",
       "dtype: float64"
      ]
     },
     "execution_count": 32,
     "metadata": {},
     "output_type": "execute_result"
    }
   ],
   "source": [
    "ser"
   ]
  },
  {
   "cell_type": "code",
   "execution_count": 30,
   "id": "20c4535a",
   "metadata": {},
   "outputs": [
    {
     "data": {
      "text/plain": [
       "pandas.core.series.Series"
      ]
     },
     "execution_count": 30,
     "metadata": {},
     "output_type": "execute_result"
    }
   ],
   "source": [
    "type(ser)"
   ]
  },
  {
   "cell_type": "code",
   "execution_count": 33,
   "id": "898d7fc0",
   "metadata": {},
   "outputs": [],
   "source": [
    "# Created a DataFrame datatype\n",
    "newdf = pd.DataFrame(np.random.rand(334,5), index = np.arange(334))"
   ]
  },
  {
   "cell_type": "code",
   "execution_count": 34,
   "id": "71ceeee3",
   "metadata": {},
   "outputs": [
    {
     "data": {
      "text/html": [
       "<div>\n",
       "<style scoped>\n",
       "    .dataframe tbody tr th:only-of-type {\n",
       "        vertical-align: middle;\n",
       "    }\n",
       "\n",
       "    .dataframe tbody tr th {\n",
       "        vertical-align: top;\n",
       "    }\n",
       "\n",
       "    .dataframe thead th {\n",
       "        text-align: right;\n",
       "    }\n",
       "</style>\n",
       "<table border=\"1\" class=\"dataframe\">\n",
       "  <thead>\n",
       "    <tr style=\"text-align: right;\">\n",
       "      <th></th>\n",
       "      <th>0</th>\n",
       "      <th>1</th>\n",
       "      <th>2</th>\n",
       "      <th>3</th>\n",
       "      <th>4</th>\n",
       "    </tr>\n",
       "  </thead>\n",
       "  <tbody>\n",
       "    <tr>\n",
       "      <th>0</th>\n",
       "      <td>0.427368</td>\n",
       "      <td>0.415699</td>\n",
       "      <td>0.324337</td>\n",
       "      <td>0.002385</td>\n",
       "      <td>0.705661</td>\n",
       "    </tr>\n",
       "    <tr>\n",
       "      <th>1</th>\n",
       "      <td>0.800632</td>\n",
       "      <td>0.459401</td>\n",
       "      <td>0.332987</td>\n",
       "      <td>0.620213</td>\n",
       "      <td>0.669441</td>\n",
       "    </tr>\n",
       "    <tr>\n",
       "      <th>2</th>\n",
       "      <td>0.495037</td>\n",
       "      <td>0.662759</td>\n",
       "      <td>0.454294</td>\n",
       "      <td>0.569944</td>\n",
       "      <td>0.087079</td>\n",
       "    </tr>\n",
       "    <tr>\n",
       "      <th>3</th>\n",
       "      <td>0.404527</td>\n",
       "      <td>0.546184</td>\n",
       "      <td>0.357670</td>\n",
       "      <td>0.955163</td>\n",
       "      <td>0.929557</td>\n",
       "    </tr>\n",
       "    <tr>\n",
       "      <th>4</th>\n",
       "      <td>0.509068</td>\n",
       "      <td>0.751678</td>\n",
       "      <td>0.676991</td>\n",
       "      <td>0.766693</td>\n",
       "      <td>0.946998</td>\n",
       "    </tr>\n",
       "  </tbody>\n",
       "</table>\n",
       "</div>"
      ],
      "text/plain": [
       "          0         1         2         3         4\n",
       "0  0.427368  0.415699  0.324337  0.002385  0.705661\n",
       "1  0.800632  0.459401  0.332987  0.620213  0.669441\n",
       "2  0.495037  0.662759  0.454294  0.569944  0.087079\n",
       "3  0.404527  0.546184  0.357670  0.955163  0.929557\n",
       "4  0.509068  0.751678  0.676991  0.766693  0.946998"
      ]
     },
     "execution_count": 34,
     "metadata": {},
     "output_type": "execute_result"
    }
   ],
   "source": [
    "newdf.head()"
   ]
  },
  {
   "cell_type": "code",
   "execution_count": 36,
   "id": "0f4b9023",
   "metadata": {},
   "outputs": [
    {
     "data": {
      "text/html": [
       "<div>\n",
       "<style scoped>\n",
       "    .dataframe tbody tr th:only-of-type {\n",
       "        vertical-align: middle;\n",
       "    }\n",
       "\n",
       "    .dataframe tbody tr th {\n",
       "        vertical-align: top;\n",
       "    }\n",
       "\n",
       "    .dataframe thead th {\n",
       "        text-align: right;\n",
       "    }\n",
       "</style>\n",
       "<table border=\"1\" class=\"dataframe\">\n",
       "  <thead>\n",
       "    <tr style=\"text-align: right;\">\n",
       "      <th></th>\n",
       "      <th>0</th>\n",
       "      <th>1</th>\n",
       "      <th>2</th>\n",
       "      <th>3</th>\n",
       "      <th>4</th>\n",
       "    </tr>\n",
       "  </thead>\n",
       "  <tbody>\n",
       "    <tr>\n",
       "      <th>0</th>\n",
       "      <td>0.427368</td>\n",
       "      <td>0.415699</td>\n",
       "      <td>0.324337</td>\n",
       "      <td>0.002385</td>\n",
       "      <td>0.705661</td>\n",
       "    </tr>\n",
       "    <tr>\n",
       "      <th>1</th>\n",
       "      <td>0.800632</td>\n",
       "      <td>0.459401</td>\n",
       "      <td>0.332987</td>\n",
       "      <td>0.620213</td>\n",
       "      <td>0.669441</td>\n",
       "    </tr>\n",
       "    <tr>\n",
       "      <th>2</th>\n",
       "      <td>0.495037</td>\n",
       "      <td>0.662759</td>\n",
       "      <td>0.454294</td>\n",
       "      <td>0.569944</td>\n",
       "      <td>0.087079</td>\n",
       "    </tr>\n",
       "    <tr>\n",
       "      <th>3</th>\n",
       "      <td>0.404527</td>\n",
       "      <td>0.546184</td>\n",
       "      <td>0.357670</td>\n",
       "      <td>0.955163</td>\n",
       "      <td>0.929557</td>\n",
       "    </tr>\n",
       "    <tr>\n",
       "      <th>4</th>\n",
       "      <td>0.509068</td>\n",
       "      <td>0.751678</td>\n",
       "      <td>0.676991</td>\n",
       "      <td>0.766693</td>\n",
       "      <td>0.946998</td>\n",
       "    </tr>\n",
       "    <tr>\n",
       "      <th>...</th>\n",
       "      <td>...</td>\n",
       "      <td>...</td>\n",
       "      <td>...</td>\n",
       "      <td>...</td>\n",
       "      <td>...</td>\n",
       "    </tr>\n",
       "    <tr>\n",
       "      <th>329</th>\n",
       "      <td>0.027780</td>\n",
       "      <td>0.802039</td>\n",
       "      <td>0.873444</td>\n",
       "      <td>0.909959</td>\n",
       "      <td>0.445557</td>\n",
       "    </tr>\n",
       "    <tr>\n",
       "      <th>330</th>\n",
       "      <td>0.474387</td>\n",
       "      <td>0.762668</td>\n",
       "      <td>0.889079</td>\n",
       "      <td>0.982846</td>\n",
       "      <td>0.858829</td>\n",
       "    </tr>\n",
       "    <tr>\n",
       "      <th>331</th>\n",
       "      <td>0.825311</td>\n",
       "      <td>0.569079</td>\n",
       "      <td>0.603017</td>\n",
       "      <td>0.372832</td>\n",
       "      <td>0.572497</td>\n",
       "    </tr>\n",
       "    <tr>\n",
       "      <th>332</th>\n",
       "      <td>0.965968</td>\n",
       "      <td>0.668327</td>\n",
       "      <td>0.061887</td>\n",
       "      <td>0.778936</td>\n",
       "      <td>0.184724</td>\n",
       "    </tr>\n",
       "    <tr>\n",
       "      <th>333</th>\n",
       "      <td>0.850508</td>\n",
       "      <td>0.227443</td>\n",
       "      <td>0.947153</td>\n",
       "      <td>0.239333</td>\n",
       "      <td>0.491958</td>\n",
       "    </tr>\n",
       "  </tbody>\n",
       "</table>\n",
       "<p>334 rows × 5 columns</p>\n",
       "</div>"
      ],
      "text/plain": [
       "            0         1         2         3         4\n",
       "0    0.427368  0.415699  0.324337  0.002385  0.705661\n",
       "1    0.800632  0.459401  0.332987  0.620213  0.669441\n",
       "2    0.495037  0.662759  0.454294  0.569944  0.087079\n",
       "3    0.404527  0.546184  0.357670  0.955163  0.929557\n",
       "4    0.509068  0.751678  0.676991  0.766693  0.946998\n",
       "..        ...       ...       ...       ...       ...\n",
       "329  0.027780  0.802039  0.873444  0.909959  0.445557\n",
       "330  0.474387  0.762668  0.889079  0.982846  0.858829\n",
       "331  0.825311  0.569079  0.603017  0.372832  0.572497\n",
       "332  0.965968  0.668327  0.061887  0.778936  0.184724\n",
       "333  0.850508  0.227443  0.947153  0.239333  0.491958\n",
       "\n",
       "[334 rows x 5 columns]"
      ]
     },
     "execution_count": 36,
     "metadata": {},
     "output_type": "execute_result"
    }
   ],
   "source": [
    "newdf\n"
   ]
  },
  {
   "cell_type": "code",
   "execution_count": 37,
   "id": "bbe20da1",
   "metadata": {},
   "outputs": [
    {
     "data": {
      "text/plain": [
       "pandas.core.frame.DataFrame"
      ]
     },
     "execution_count": 37,
     "metadata": {},
     "output_type": "execute_result"
    }
   ],
   "source": [
    "type(newdf)"
   ]
  },
  {
   "cell_type": "code",
   "execution_count": 38,
   "id": "3fd8589b",
   "metadata": {},
   "outputs": [
    {
     "data": {
      "text/html": [
       "<div>\n",
       "<style scoped>\n",
       "    .dataframe tbody tr th:only-of-type {\n",
       "        vertical-align: middle;\n",
       "    }\n",
       "\n",
       "    .dataframe tbody tr th {\n",
       "        vertical-align: top;\n",
       "    }\n",
       "\n",
       "    .dataframe thead th {\n",
       "        text-align: right;\n",
       "    }\n",
       "</style>\n",
       "<table border=\"1\" class=\"dataframe\">\n",
       "  <thead>\n",
       "    <tr style=\"text-align: right;\">\n",
       "      <th></th>\n",
       "      <th>0</th>\n",
       "      <th>1</th>\n",
       "      <th>2</th>\n",
       "      <th>3</th>\n",
       "      <th>4</th>\n",
       "    </tr>\n",
       "  </thead>\n",
       "  <tbody>\n",
       "    <tr>\n",
       "      <th>count</th>\n",
       "      <td>334.000000</td>\n",
       "      <td>334.000000</td>\n",
       "      <td>334.000000</td>\n",
       "      <td>334.000000</td>\n",
       "      <td>334.000000</td>\n",
       "    </tr>\n",
       "    <tr>\n",
       "      <th>mean</th>\n",
       "      <td>0.485186</td>\n",
       "      <td>0.500844</td>\n",
       "      <td>0.485980</td>\n",
       "      <td>0.525380</td>\n",
       "      <td>0.506901</td>\n",
       "    </tr>\n",
       "    <tr>\n",
       "      <th>std</th>\n",
       "      <td>0.294945</td>\n",
       "      <td>0.277056</td>\n",
       "      <td>0.286533</td>\n",
       "      <td>0.299874</td>\n",
       "      <td>0.287665</td>\n",
       "    </tr>\n",
       "    <tr>\n",
       "      <th>min</th>\n",
       "      <td>0.000730</td>\n",
       "      <td>0.000780</td>\n",
       "      <td>0.003610</td>\n",
       "      <td>0.002385</td>\n",
       "      <td>0.000571</td>\n",
       "    </tr>\n",
       "    <tr>\n",
       "      <th>25%</th>\n",
       "      <td>0.229851</td>\n",
       "      <td>0.252567</td>\n",
       "      <td>0.225620</td>\n",
       "      <td>0.254268</td>\n",
       "      <td>0.271864</td>\n",
       "    </tr>\n",
       "    <tr>\n",
       "      <th>50%</th>\n",
       "      <td>0.479030</td>\n",
       "      <td>0.510103</td>\n",
       "      <td>0.482498</td>\n",
       "      <td>0.522180</td>\n",
       "      <td>0.512723</td>\n",
       "    </tr>\n",
       "    <tr>\n",
       "      <th>75%</th>\n",
       "      <td>0.752429</td>\n",
       "      <td>0.739946</td>\n",
       "      <td>0.720063</td>\n",
       "      <td>0.789176</td>\n",
       "      <td>0.738094</td>\n",
       "    </tr>\n",
       "    <tr>\n",
       "      <th>max</th>\n",
       "      <td>0.994873</td>\n",
       "      <td>0.997171</td>\n",
       "      <td>0.997285</td>\n",
       "      <td>0.998288</td>\n",
       "      <td>0.997408</td>\n",
       "    </tr>\n",
       "  </tbody>\n",
       "</table>\n",
       "</div>"
      ],
      "text/plain": [
       "                0           1           2           3           4\n",
       "count  334.000000  334.000000  334.000000  334.000000  334.000000\n",
       "mean     0.485186    0.500844    0.485980    0.525380    0.506901\n",
       "std      0.294945    0.277056    0.286533    0.299874    0.287665\n",
       "min      0.000730    0.000780    0.003610    0.002385    0.000571\n",
       "25%      0.229851    0.252567    0.225620    0.254268    0.271864\n",
       "50%      0.479030    0.510103    0.482498    0.522180    0.512723\n",
       "75%      0.752429    0.739946    0.720063    0.789176    0.738094\n",
       "max      0.994873    0.997171    0.997285    0.998288    0.997408"
      ]
     },
     "execution_count": 38,
     "metadata": {},
     "output_type": "execute_result"
    }
   ],
   "source": [
    "newdf.describe()"
   ]
  },
  {
   "cell_type": "code",
   "execution_count": 40,
   "id": "62d34166",
   "metadata": {},
   "outputs": [
    {
     "data": {
      "text/plain": [
       "0    float64\n",
       "1    float64\n",
       "2    float64\n",
       "3    float64\n",
       "4    float64\n",
       "dtype: object"
      ]
     },
     "execution_count": 40,
     "metadata": {},
     "output_type": "execute_result"
    }
   ],
   "source": [
    "newdf.dtypes"
   ]
  },
  {
   "cell_type": "code",
   "execution_count": 41,
   "id": "77599a4e",
   "metadata": {},
   "outputs": [],
   "source": [
    "newdf[0][0] = 'Yash'"
   ]
  },
  {
   "cell_type": "code",
   "execution_count": 42,
   "id": "0c9de31b",
   "metadata": {},
   "outputs": [
    {
     "data": {
      "text/plain": [
       "0     object\n",
       "1    float64\n",
       "2    float64\n",
       "3    float64\n",
       "4    float64\n",
       "dtype: object"
      ]
     },
     "execution_count": 42,
     "metadata": {},
     "output_type": "execute_result"
    }
   ],
   "source": [
    "newdf.dtypes"
   ]
  },
  {
   "cell_type": "code",
   "execution_count": 43,
   "id": "99c90d02",
   "metadata": {},
   "outputs": [
    {
     "data": {
      "text/html": [
       "<div>\n",
       "<style scoped>\n",
       "    .dataframe tbody tr th:only-of-type {\n",
       "        vertical-align: middle;\n",
       "    }\n",
       "\n",
       "    .dataframe tbody tr th {\n",
       "        vertical-align: top;\n",
       "    }\n",
       "\n",
       "    .dataframe thead th {\n",
       "        text-align: right;\n",
       "    }\n",
       "</style>\n",
       "<table border=\"1\" class=\"dataframe\">\n",
       "  <thead>\n",
       "    <tr style=\"text-align: right;\">\n",
       "      <th></th>\n",
       "      <th>0</th>\n",
       "      <th>1</th>\n",
       "      <th>2</th>\n",
       "      <th>3</th>\n",
       "      <th>4</th>\n",
       "    </tr>\n",
       "  </thead>\n",
       "  <tbody>\n",
       "    <tr>\n",
       "      <th>0</th>\n",
       "      <td>Yash</td>\n",
       "      <td>0.415699</td>\n",
       "      <td>0.324337</td>\n",
       "      <td>0.002385</td>\n",
       "      <td>0.705661</td>\n",
       "    </tr>\n",
       "    <tr>\n",
       "      <th>1</th>\n",
       "      <td>0.800632</td>\n",
       "      <td>0.459401</td>\n",
       "      <td>0.332987</td>\n",
       "      <td>0.620213</td>\n",
       "      <td>0.669441</td>\n",
       "    </tr>\n",
       "    <tr>\n",
       "      <th>2</th>\n",
       "      <td>0.495037</td>\n",
       "      <td>0.662759</td>\n",
       "      <td>0.454294</td>\n",
       "      <td>0.569944</td>\n",
       "      <td>0.087079</td>\n",
       "    </tr>\n",
       "    <tr>\n",
       "      <th>3</th>\n",
       "      <td>0.404527</td>\n",
       "      <td>0.546184</td>\n",
       "      <td>0.357670</td>\n",
       "      <td>0.955163</td>\n",
       "      <td>0.929557</td>\n",
       "    </tr>\n",
       "    <tr>\n",
       "      <th>4</th>\n",
       "      <td>0.509068</td>\n",
       "      <td>0.751678</td>\n",
       "      <td>0.676991</td>\n",
       "      <td>0.766693</td>\n",
       "      <td>0.946998</td>\n",
       "    </tr>\n",
       "  </tbody>\n",
       "</table>\n",
       "</div>"
      ],
      "text/plain": [
       "          0         1         2         3         4\n",
       "0      Yash  0.415699  0.324337  0.002385  0.705661\n",
       "1  0.800632  0.459401  0.332987  0.620213  0.669441\n",
       "2  0.495037  0.662759  0.454294  0.569944  0.087079\n",
       "3  0.404527  0.546184  0.357670  0.955163  0.929557\n",
       "4  0.509068  0.751678  0.676991  0.766693  0.946998"
      ]
     },
     "execution_count": 43,
     "metadata": {},
     "output_type": "execute_result"
    }
   ],
   "source": [
    "newdf.head()"
   ]
  },
  {
   "cell_type": "code",
   "execution_count": 44,
   "id": "17a45034",
   "metadata": {},
   "outputs": [
    {
     "data": {
      "text/plain": [
       "Index([  0,   1,   2,   3,   4,   5,   6,   7,   8,   9,\n",
       "       ...\n",
       "       324, 325, 326, 327, 328, 329, 330, 331, 332, 333],\n",
       "      dtype='int64', length=334)"
      ]
     },
     "execution_count": 44,
     "metadata": {},
     "output_type": "execute_result"
    }
   ],
   "source": [
    "newdf.index"
   ]
  },
  {
   "cell_type": "code",
   "execution_count": 45,
   "id": "60593a3d",
   "metadata": {},
   "outputs": [
    {
     "data": {
      "text/plain": [
       "RangeIndex(start=0, stop=5, step=1)"
      ]
     },
     "execution_count": 45,
     "metadata": {},
     "output_type": "execute_result"
    }
   ],
   "source": [
    "newdf.columns"
   ]
  },
  {
   "cell_type": "code",
   "execution_count": 46,
   "id": "42c05343",
   "metadata": {},
   "outputs": [
    {
     "data": {
      "text/plain": [
       "array([['Yash', 0.415699368038021, 0.3243374235027444,\n",
       "        0.0023845533687553155, 0.7056605987446832],\n",
       "       [0.8006315953029987, 0.45940080594163357, 0.33298709411389826,\n",
       "        0.6202126220869499, 0.6694412926988637],\n",
       "       [0.49503693972941565, 0.6627592749880318, 0.4542944257675553,\n",
       "        0.5699442436887103, 0.0870786314128984],\n",
       "       ...,\n",
       "       [0.8253107326722026, 0.5690793082628004, 0.6030166296624351,\n",
       "        0.37283192024423006, 0.5724967676788338],\n",
       "       [0.9659679050506189, 0.668327179677941, 0.061887320176378324,\n",
       "        0.7789355914095931, 0.1847242733155634],\n",
       "       [0.8505082805924775, 0.2274431142366271, 0.9471529915626629,\n",
       "        0.2393328605606454, 0.4919575372500885]], dtype=object)"
      ]
     },
     "execution_count": 46,
     "metadata": {},
     "output_type": "execute_result"
    }
   ],
   "source": [
    "# Converting to Numpy array\n",
    "newdf.to_numpy()"
   ]
  },
  {
   "cell_type": "code",
   "execution_count": null,
   "id": "19e72f72",
   "metadata": {},
   "outputs": [],
   "source": []
  }
 ],
 "metadata": {
  "kernelspec": {
   "display_name": "Python 3 (ipykernel)",
   "language": "python",
   "name": "python3"
  },
  "language_info": {
   "codemirror_mode": {
    "name": "ipython",
    "version": 3
   },
   "file_extension": ".py",
   "mimetype": "text/x-python",
   "name": "python",
   "nbconvert_exporter": "python",
   "pygments_lexer": "ipython3",
   "version": "3.11.5"
  }
 },
 "nbformat": 4,
 "nbformat_minor": 5
}
